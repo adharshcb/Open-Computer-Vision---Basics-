{
 "cells": [
  {
   "cell_type": "code",
   "execution_count": 1,
   "id": "fa8b4f27",
   "metadata": {},
   "outputs": [],
   "source": [
    "import cv2\n",
    "import numpy as np"
   ]
  },
  {
   "cell_type": "markdown",
   "id": "3767e249",
   "metadata": {},
   "source": [
    "## DRAW GEOMETRIC SHAPES ON IMAGE"
   ]
  },
  {
   "cell_type": "code",
   "execution_count": 2,
   "id": "e8f2329a",
   "metadata": {},
   "outputs": [],
   "source": [
    "img = cv2.imread(\"lena.jpg\",1)\n",
    "\n",
    "#BLACK IMAGE USING NUMPY ZEROS\n",
    "img = np.zeros([512,512,3],np.uint8)\n",
    "#arguments     [height,width,3],d-type\n",
    "\n",
    "\n",
    "#TO DRAW LINE\n",
    "img = cv2.line(img,(0,0),(600,600),(255,0,100),5)\n",
    "#args          (source,(start),(stop),(color),size)\n",
    "\n",
    "#TO DRAW LINE WITH ARROW\n",
    "img = cv2.arrowedLine(img,(10,10),(255,400),(0,255,100),5)\n",
    "#args                (source,(start),(stop),(color),size)\n",
    "\n",
    "#TO DRAW THE RECTANGLE\n",
    "img = cv2.rectangle(img,(20,20),(500,190),(0,0,255),-1)\n",
    "#args              (source,(left-top),(right-bottom),(color),-1(fill) or 2(size))\n",
    "\n",
    "#TO DRAW THE CIRCLE\n",
    "img = cv2.circle(img,(130,130),80,(155,155,155),0)\n",
    "#args           (source,(center),(radius),(color),fill(-1) or size(2))\n",
    "\n",
    "#TO ADD TEXT ON IMAGE\n",
    "img = cv2.putText(img,\"if you say so say so\",(110,110),cv2.FONT_HERSHEY_COMPLEX_SMALL,5,(255,255,255),2,cv2.LINE_8)\n",
    "#args            (source,'text',(start),font-face,font-scale,(color-bgr),thickness,line-type)\n",
    "\n",
    "\n",
    "cv2.imshow('lennaa',img)\n",
    "if cv2.waitKey(1) == ord('q'):\n",
    "    cv2.destroyAllWindows()\n",
    "else:\n",
    "    cv2.waitKey(5000)\n",
    "    cv2.destroyAllWindows()\n"
   ]
  },
  {
   "cell_type": "markdown",
   "id": "0feecd37",
   "metadata": {},
   "source": [
    "### CAMERA PARAMETERS"
   ]
  },
  {
   "cell_type": "code",
   "execution_count": 9,
   "id": "54197cfd",
   "metadata": {},
   "outputs": [
    {
     "name": "stdout",
     "output_type": "stream",
     "text": [
      "640.0\n",
      "480.0\n",
      "1280.0\n",
      "720.0\n"
     ]
    }
   ],
   "source": [
    "cap = cv2.VideoCapture(0)\n",
    "print(cap.get(cv2.CAP_PROP_FRAME_WIDTH))\n",
    "print(cap.get(cv2.CAP_PROP_FRAME_HEIGHT))\n",
    "\n",
    "cap.set(3,1920)#3 represents cv2.CAP_PROP_FRAME_WIDTH\n",
    "#changing the frame width\n",
    "cap.set(4,1080) #4 represents cv2.CAP_PROP_FRAME_HEIGHT\n",
    "#changing the frame height\n",
    "\n",
    "print(cap.get(3))\n",
    "print(cap.get(4))\n",
    "\n",
    "while(cap.isOpened()):\n",
    "    ret,frame = cap.read()\n",
    "    if ret is True:\n",
    "        gray = cv2.cvtColor(frame,cv2.COLOR_BGR2GRAY)\n",
    "        cv2.imshow('frame',gray)\n",
    "        if cv2.waitKey(1) == ord('q'):\n",
    "            break\n",
    "    else:\n",
    "        break\n",
    "cap.release()\n",
    "cv2.destroyAllWindows()"
   ]
  },
  {
   "cell_type": "code",
   "execution_count": null,
   "id": "8a0f4124",
   "metadata": {},
   "outputs": [],
   "source": []
  }
 ],
 "metadata": {
  "kernelspec": {
   "display_name": "Python 3 (ipykernel)",
   "language": "python",
   "name": "python3"
  },
  "language_info": {
   "codemirror_mode": {
    "name": "ipython",
    "version": 3
   },
   "file_extension": ".py",
   "mimetype": "text/x-python",
   "name": "python",
   "nbconvert_exporter": "python",
   "pygments_lexer": "ipython3",
   "version": "3.10.4"
  }
 },
 "nbformat": 4,
 "nbformat_minor": 5
}
