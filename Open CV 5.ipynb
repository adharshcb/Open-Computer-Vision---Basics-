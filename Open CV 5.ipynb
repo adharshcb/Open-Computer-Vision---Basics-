{
 "cells": [
  {
   "cell_type": "markdown",
   "id": "d32fd214",
   "metadata": {},
   "source": [
    "# BASIC OPERATIONS ON IMAGES"
   ]
  },
  {
   "cell_type": "code",
   "execution_count": 1,
   "id": "abe67c0a",
   "metadata": {},
   "outputs": [],
   "source": [
    "import cv2"
   ]
  },
  {
   "cell_type": "code",
   "execution_count": 2,
   "id": "f6d34813",
   "metadata": {},
   "outputs": [
    {
     "name": "stdout",
     "output_type": "stream",
     "text": [
      "(342, 548, 3)\n",
      "562248\n",
      "uint8\n"
     ]
    }
   ],
   "source": [
    "img = cv2.imread('messi5.jpg',1)\n",
    "print(img.shape)# return a tuple of number of rows,columns, and channels.\n",
    "print(img.size)# return total number of pixels is accessed.\n",
    "print(img.dtype)# return data type of the image."
   ]
  },
  {
   "cell_type": "markdown",
   "id": "ce1ff8b0",
   "metadata": {},
   "source": [
    "# split"
   ]
  },
  {
   "cell_type": "code",
   "execution_count": 3,
   "id": "d41b53c7",
   "metadata": {},
   "outputs": [],
   "source": [
    "# to split an image to its BGR channels.\n",
    "b,g,r = cv2.split(img)"
   ]
  },
  {
   "cell_type": "markdown",
   "id": "a35b3855",
   "metadata": {},
   "source": [
    "# merge"
   ]
  },
  {
   "cell_type": "code",
   "execution_count": 5,
   "id": "92a98ac2",
   "metadata": {},
   "outputs": [],
   "source": [
    "# to merge BGR channels to an image.\n",
    "img = cv2.merge((b,g,r))"
   ]
  },
  {
   "cell_type": "markdown",
   "id": "33df5ba2",
   "metadata": {},
   "source": [
    "# ROI"
   ]
  },
  {
   "cell_type": "code",
   "execution_count": 13,
   "id": "5dc5f072",
   "metadata": {},
   "outputs": [],
   "source": [
    "#to copy one ROI(region of interest) to another co-ordinate\n",
    "ball = img[280:340,330:390] #copy\n",
    "\n",
    "img[273:333,100:160] = ball #paste"
   ]
  },
  {
   "cell_type": "markdown",
   "id": "d9cad47d",
   "metadata": {},
   "source": [
    "# ADD TWO IMAGES"
   ]
  },
  {
   "cell_type": "code",
   "execution_count": 16,
   "id": "793c264c",
   "metadata": {},
   "outputs": [],
   "source": [
    "img2 = cv2.imread('opencv-logo.png',1)\n",
    "\n",
    "img = cv2.resize(img,(1080,1080))# resize\n",
    "# args          (source,(size))\n",
    "\n",
    "img2 = cv2.resize(img2,(512,))# resize\n",
    "\n",
    "dst = cv2.add(img,img2)#calculates the per-element sum of two arrays or an array and a scalar.\n"
   ]
  },
  {
   "cell_type": "code",
   "execution_count": 30,
   "id": "c5fad0a7",
   "metadata": {},
   "outputs": [],
   "source": [
    "#add weight on images\n",
    "dst = cv2.addWeighted(img,0.9,img2,0.3,1)\n",
    "#args                (source,weight,source2,weight,gamma value)"
   ]
  },
  {
   "cell_type": "code",
   "execution_count": 31,
   "id": "8ecd363b",
   "metadata": {},
   "outputs": [],
   "source": [
    "cv2.imshow('image',dst)\n",
    "cv2.waitKey(0)\n",
    "cv2.destroyAllWindows()"
   ]
  },
  {
   "cell_type": "code",
   "execution_count": null,
   "id": "f79a870e",
   "metadata": {},
   "outputs": [],
   "source": []
  }
 ],
 "metadata": {
  "kernelspec": {
   "display_name": "Python 3 (ipykernel)",
   "language": "python",
   "name": "python3"
  },
  "language_info": {
   "codemirror_mode": {
    "name": "ipython",
    "version": 3
   },
   "file_extension": ".py",
   "mimetype": "text/x-python",
   "name": "python",
   "nbconvert_exporter": "python",
   "pygments_lexer": "ipython3",
   "version": "3.10.4"
  }
 },
 "nbformat": 4,
 "nbformat_minor": 5
}
