{
 "cells": [
  {
   "cell_type": "code",
   "execution_count": null,
   "id": "e7640450",
   "metadata": {},
   "outputs": [],
   "source": [
    "import cv2\n",
    "import numpy as np"
   ]
  },
  {
   "cell_type": "markdown",
   "id": "26628313",
   "metadata": {},
   "source": [
    "# Trackbars"
   ]
  },
  {
   "cell_type": "markdown",
   "id": "0835a679",
   "metadata": {},
   "source": [
    "### To change value of image dynamically."
   ]
  },
  {
   "cell_type": "code",
   "execution_count": null,
   "id": "9fd689ea",
   "metadata": {},
   "outputs": [],
   "source": [
    "def nothing(x):#call back function.\n",
    "    print(x)\n",
    "\n",
    "img = np.zeros((300,512,3),np.uint8)\n",
    "cv2.namedWindow('image') #create a window with a name\n",
    "\n",
    "cv2.createTrackbar('B','image',0,255,nothing)\n",
    "#args             (trackbar-name,window-name to add trackbar,value,count,onChange)\n",
    "cv2.createTrackbar('G','image',0,255,nothing)\n",
    "cv2.createTrackbar('R','image',0,255,nothing)\n",
    "\n",
    "#SWITCH USING TRACKBAR\n",
    "switch = '0 : OFF\\n1 : ON'\n",
    "cv2.createTrackbar(switch,'image',0,1,nothing)\n",
    "\n",
    "while(1):\n",
    "    cv2.imshow('image',img)\n",
    "    k = cv2.waitKey(1)\n",
    "    if k == 27:\n",
    "        break\n",
    "    b = cv2.getTrackbarPos('B','image')\n",
    "    # to get trackbar position\n",
    "    g = cv2.getTrackbarPos('G','image')\n",
    "    r = cv2.getTrackbarPos('R','image')\n",
    "    s = cv2.getTrackbarPos(switch,'image')\n",
    "    \n",
    "    if s==0:\n",
    "        img[:] = 0\n",
    "        # change all values of image cells to zero\n",
    "    else:\n",
    "        img[:] = [b,g,r]\n",
    "        # change all values of image cells to bgr value\n",
    "    \n",
    "cv2.destroyAllWindows()"
   ]
  },
  {
   "cell_type": "markdown",
   "id": "69e98958",
   "metadata": {},
   "source": [
    "### Toggle between COLOR and GRAYSCALE"
   ]
  },
  {
   "cell_type": "code",
   "execution_count": 7,
   "id": "7b2bdaf6",
   "metadata": {},
   "outputs": [
    {
     "name": "stdout",
     "output_type": "stream",
     "text": [
      "10\n"
     ]
    }
   ],
   "source": [
    "def nothing(x):\n",
    "    print(x)\n",
    "\n",
    "cv2.namedWindow('image')\n",
    "\n",
    "\n",
    "cv2.createTrackbar('BG','image',10,400,nothing)\n",
    "\n",
    "switch = \"color/grayscale\" #trackbar name\n",
    "cv2.createTrackbar(switch,'image',0,1,nothing)\n",
    "    \n",
    "while(1):\n",
    "    img = cv2.imread('lena.jpg',1)\n",
    "    pos = cv2.getTrackbarPos('BG','image')\n",
    "    font = cv2.FONT_HERSHEY_SIMPLEX\n",
    "    cv2.putText(img,str(pos),(50,150),font,6,(255,255,255),10)\n",
    "    #trackbar position\n",
    "    k = cv2.waitKey(1)\n",
    "    if k == 27:\n",
    "        break\n",
    "    s = cv2.getTrackbarPos(switch,'image')\n",
    "    # get trackbar position\n",
    "    if s == 0:\n",
    "        pass\n",
    "    else:\n",
    "        img = cv2.cvtColor(img,cv2.COLOR_BGR2GRAY)\n",
    "        \n",
    "    img = cv2.imshow('image',img)\n",
    "\n",
    "cv2.destroyAllWindows()\n",
    "    "
   ]
  },
  {
   "cell_type": "code",
   "execution_count": null,
   "id": "077307bd",
   "metadata": {},
   "outputs": [],
   "source": []
  }
 ],
 "metadata": {
  "kernelspec": {
   "display_name": "Python 3 (ipykernel)",
   "language": "python",
   "name": "python3"
  },
  "language_info": {
   "codemirror_mode": {
    "name": "ipython",
    "version": 3
   },
   "file_extension": ".py",
   "mimetype": "text/x-python",
   "name": "python",
   "nbconvert_exporter": "python",
   "pygments_lexer": "ipython3",
   "version": "3.10.4"
  }
 },
 "nbformat": 4,
 "nbformat_minor": 5
}
