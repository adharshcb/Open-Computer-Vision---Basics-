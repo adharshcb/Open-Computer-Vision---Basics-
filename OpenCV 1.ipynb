{
 "cells": [
  {
   "cell_type": "markdown",
   "id": "ecec82e1",
   "metadata": {},
   "source": [
    "# OPEN COMPUTER VISION (open CV)"
   ]
  },
  {
   "cell_type": "code",
   "execution_count": 6,
   "id": "3b286f16",
   "metadata": {},
   "outputs": [],
   "source": [
    "import cv2"
   ]
  },
  {
   "cell_type": "code",
   "execution_count": 4,
   "id": "8bbc0c99",
   "metadata": {},
   "outputs": [
    {
     "data": {
      "text/plain": [
       "'4.6.0'"
      ]
     },
     "execution_count": 4,
     "metadata": {},
     "output_type": "execute_result"
    }
   ],
   "source": [
    "cv2.__version__"
   ]
  },
  {
   "cell_type": "markdown",
   "id": "d1c963ee",
   "metadata": {},
   "source": [
    "## SAMPLE 1\n",
    "### READ IMAGE FROM FILE"
   ]
  },
  {
   "cell_type": "code",
   "execution_count": 5,
   "id": "2ee60c3b",
   "metadata": {},
   "outputs": [],
   "source": [
    "img = cv2.imread('lena.jpg',1)\n",
    "cv2.imshow('image',img)\n",
    "cv2.waitKey(5000)\n",
    "cv2.destroyAllWindows()"
   ]
  },
  {
   "cell_type": "markdown",
   "id": "69340137",
   "metadata": {},
   "source": [
    "## SAMPLE 2\n",
    "### READ AN IMAGE FILE AND SAVE IT."
   ]
  },
  {
   "cell_type": "code",
   "execution_count": 4,
   "id": "adb68d52",
   "metadata": {},
   "outputs": [],
   "source": [
    "img = cv2.imread(\"lena.jpg\",0)\n",
    "cv2.imshow('image2',img)\n",
    "key = cv2.waitKey(0)\n",
    "if key == ord('q'):\n",
    "    cv2.destroyAllWindows()\n",
    "elif key == ord('s'):\n",
    "    cv2.imwrite('tempImage.png',img)\n",
    "    cv2.destroyAllWindows()\n"
   ]
  },
  {
   "cell_type": "markdown",
   "id": "0ac4fdb8",
   "metadata": {},
   "source": [
    "## SAMPLE 3\n",
    "### VIDEO CAPTURE "
   ]
  },
  {
   "cell_type": "code",
   "execution_count": 7,
   "id": "dff557fe",
   "metadata": {},
   "outputs": [],
   "source": [
    "cap = cv2.VideoCapture(0)\n",
    "while(cap.isOpened()):\n",
    "    ret,frame = cap.read()\n",
    "    \n",
    "    if ret is True:\n",
    "        cv2.imshow('being captured',frame)\n",
    "        if cv2.waitKey(1) == ord('q'):\n",
    "            break\n",
    "    else:\n",
    "        break\n",
    "        \n",
    "cap.release()\n",
    "\n",
    "cv2.destroyAllWindows()"
   ]
  },
  {
   "cell_type": "markdown",
   "id": "1b734a8e",
   "metadata": {},
   "source": [
    "## SAMPLE 4\n",
    "### VIDEO CAPTURE AND SAVE IT"
   ]
  },
  {
   "cell_type": "code",
   "execution_count": 4,
   "id": "ac2e68d1",
   "metadata": {},
   "outputs": [],
   "source": [
    "cap = cv2.VideoCapture(0)\n",
    "fourcc = cv2.VideoWriter_fourcc(*'XVID')\n",
    "out = cv2.VideoWriter(\"sample.avi\",fourcc,30.0,(640,480))\n",
    "while(cap.isOpened()):\n",
    "    ret,frame = cap.read()\n",
    "    if ret is True:\n",
    "        out.write(frame)\n",
    "        gr = cv2.cvtColor(frame,cv2.COLOR_BGR2GRAY)\n",
    "        cv2.imshow('frame',gr)\n",
    "        if cv2.waitKey(1) == ord('q'):\n",
    "            break\n",
    "    else:\n",
    "        break\n",
    "        \n",
    "cap.release()\n",
    "out.release()\n",
    "cv2.destroyAllWindows()"
   ]
  },
  {
   "cell_type": "code",
   "execution_count": null,
   "id": "7a0c9e3a",
   "metadata": {},
   "outputs": [],
   "source": []
  }
 ],
 "metadata": {
  "kernelspec": {
   "display_name": "Python 3 (ipykernel)",
   "language": "python",
   "name": "python3"
  },
  "language_info": {
   "codemirror_mode": {
    "name": "ipython",
    "version": 3
   },
   "file_extension": ".py",
   "mimetype": "text/x-python",
   "name": "python",
   "nbconvert_exporter": "python",
   "pygments_lexer": "ipython3",
   "version": "3.10.4"
  },
  "vscode": {
   "interpreter": {
    "hash": "916dbcbb3f70747c44a77c7bcd40155683ae19c65e1c03b4aa3499c5328201f1"
   }
  }
 },
 "nbformat": 4,
 "nbformat_minor": 5
}
