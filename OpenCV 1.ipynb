{
 "cells": [
  {
   "cell_type": "markdown",
   "id": "ecec82e1",
   "metadata": {},
   "source": [
    "# open computer vision day 1 (open CV)"
   ]
  },
  {
   "cell_type": "code",
   "execution_count": 3,
   "id": "3b286f16",
   "metadata": {},
   "outputs": [],
   "source": [
    "import cv2"
   ]
  },
  {
   "cell_type": "code",
   "execution_count": 2,
   "id": "8bbc0c99",
   "metadata": {},
   "outputs": [
    {
     "data": {
      "text/plain": [
       "'4.6.0'"
      ]
     },
     "execution_count": 2,
     "metadata": {},
     "output_type": "execute_result"
    }
   ],
   "source": [
    "cv2.__version__"
   ]
  },
  {
   "cell_type": "markdown",
   "id": "d1c963ee",
   "metadata": {},
   "source": [
    "## sample 1 "
   ]
  },
  {
   "cell_type": "markdown",
   "id": "87fb122e",
   "metadata": {},
   "source": [
    "### read an image file and display image"
   ]
  },
  {
   "cell_type": "code",
   "execution_count": 3,
   "id": "2ee60c3b",
   "metadata": {},
   "outputs": [
    {
     "data": {
      "text/plain": [
       "array([[[128, 138, 225],\n",
       "        [127, 137, 224],\n",
       "        [126, 136, 224],\n",
       "        ...,\n",
       "        [126, 145, 236],\n",
       "        [110, 129, 220],\n",
       "        [ 86, 104, 197]],\n",
       "\n",
       "       [[127, 137, 224],\n",
       "        [127, 137, 224],\n",
       "        [127, 137, 224],\n",
       "        ...,\n",
       "        [130, 150, 235],\n",
       "        [112, 132, 217],\n",
       "        [ 83, 102, 189]],\n",
       "\n",
       "       [[127, 137, 224],\n",
       "        [127, 137, 224],\n",
       "        [128, 138, 225],\n",
       "        ...,\n",
       "        [127, 148, 230],\n",
       "        [112, 133, 215],\n",
       "        [ 85, 105, 190]],\n",
       "\n",
       "       ...,\n",
       "\n",
       "       [[ 55,  21,  82],\n",
       "        [ 54,  20,  81],\n",
       "        [ 62,  28,  92],\n",
       "        ...,\n",
       "        [ 82,  71, 175],\n",
       "        [ 78,  68, 175],\n",
       "        [ 74,  65, 175]],\n",
       "\n",
       "       [[ 55,  18,  80],\n",
       "        [ 56,  19,  81],\n",
       "        [ 66,  32,  96],\n",
       "        ...,\n",
       "        [ 82,  69, 177],\n",
       "        [ 80,  71, 181],\n",
       "        [ 81,  72, 183]],\n",
       "\n",
       "       [[ 56,  19,  81],\n",
       "        [ 58,  21,  83],\n",
       "        [ 68,  34,  98],\n",
       "        ...,\n",
       "        [ 81,  68, 176],\n",
       "        [ 81,  72, 183],\n",
       "        [ 84,  74, 188]]], dtype=uint8)"
      ]
     },
     "execution_count": 3,
     "metadata": {},
     "output_type": "execute_result"
    }
   ],
   "source": [
    "img = cv2.imread('lena.jpg',1)\n",
    "cv2.imshow('image',img)\n",
    "cv2.waitKey(5000)\n",
    "cv2.destroyAllWindows()\n",
    "img"
   ]
  },
  {
   "cell_type": "code",
   "execution_count": null,
   "id": "f4ea8090",
   "metadata": {},
   "outputs": [],
   "source": []
  },
  {
   "cell_type": "markdown",
   "id": "f77e1860",
   "metadata": {},
   "source": [
    "## sample 2"
   ]
  },
  {
   "cell_type": "markdown",
   "id": "81dbbb2a",
   "metadata": {},
   "source": [
    "### READ AN IMAGE FILE AND SAVE IT."
   ]
  },
  {
   "cell_type": "code",
   "execution_count": 4,
   "id": "adb68d52",
   "metadata": {},
   "outputs": [],
   "source": [
    "img = cv2.imread(\"lena.jpg\",0)\n",
    "cv2.imshow('image2',img)\n",
    "key = cv2.waitKey(0)\n",
    "if key == ord('q'):\n",
    "    cv2.destroyAllWindows()\n",
    "elif key == ord('s'):\n",
    "    cv2.imwrite('tempImage.png',img)\n",
    "    cv2.destroyAllWindows()\n"
   ]
  },
  {
   "cell_type": "markdown",
   "id": "72383456",
   "metadata": {},
   "source": [
    "## sample 3"
   ]
  },
  {
   "cell_type": "code",
   "execution_count": null,
   "id": "b8dacf03",
   "metadata": {},
   "outputs": [],
   "source": [
    "VIDEO CAPTURE"
   ]
  },
  {
   "cell_type": "code",
   "execution_count": 5,
   "id": "dff557fe",
   "metadata": {},
   "outputs": [],
   "source": [
    "cap = cv2.VideoCapture(0)\n",
    "while(cap.isOpened()):\n",
    "    ret,frame = cap.read()\n",
    "    \n",
    "    if ret is True:\n",
    "        cv2.imshow('being captured',frame)\n",
    "        if cv2.waitKey(1) == ord('q'):\n",
    "            break\n",
    "    else:\n",
    "        break\n",
    "        \n",
    "cap.release()\n",
    "cv2.destroyAllWindows()"
   ]
  },
  {
   "cell_type": "markdown",
   "id": "4d59de11",
   "metadata": {},
   "source": [
    "## sample 4 "
   ]
  },
  {
   "cell_type": "code",
   "execution_count": 4,
   "id": "ac2e68d1",
   "metadata": {},
   "outputs": [],
   "source": [
    "cap = cv2.VideoCapture(0)\n",
    "fourcc = cv2.VideoWriter_fourcc(*'XVID')\n",
    "out = cv2.VideoWriter(\"sample.avi\",fourcc,30.0,(640,480))\n",
    "while(cap.isOpened()):\n",
    "    ret,frame = cap.read()\n",
    "    if ret is True:\n",
    "        out.write(frame)\n",
    "        gr = cv2.cvtColor(frame,cv2.COLOR_BGR2GRAY)\n",
    "        cv2.imshow('frame',gr)\n",
    "        if cv2.waitKey(1) == ord('q'):\n",
    "            break\n",
    "    else:\n",
    "        break\n",
    "        \n",
    "cap.release()\n",
    "out.release()\n",
    "cv2.destroyAllWindows()"
   ]
  },
  {
   "cell_type": "code",
   "execution_count": null,
   "id": "7a0c9e3a",
   "metadata": {},
   "outputs": [],
   "source": []
  }
 ],
 "metadata": {
  "kernelspec": {
   "display_name": "Python 3 (ipykernel)",
   "language": "python",
   "name": "python3"
  },
  "language_info": {
   "codemirror_mode": {
    "name": "ipython",
    "version": 3
   },
   "file_extension": ".py",
   "mimetype": "text/x-python",
   "name": "python",
   "nbconvert_exporter": "python",
   "pygments_lexer": "ipython3",
   "version": "3.10.4"
  },
  "vscode": {
   "interpreter": {
    "hash": "916dbcbb3f70747c44a77c7bcd40155683ae19c65e1c03b4aa3499c5328201f1"
   }
  }
 },
 "nbformat": 4,
 "nbformat_minor": 5
}
