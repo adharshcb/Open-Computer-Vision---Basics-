{
 "cells": [
  {
   "cell_type": "code",
   "execution_count": 1,
   "id": "3a5a6846",
   "metadata": {},
   "outputs": [],
   "source": [
    "import cv2\n",
    "import numpy as np"
   ]
  },
  {
   "cell_type": "markdown",
   "id": "a0d56cde",
   "metadata": {},
   "source": [
    "## HANDLE MOUSE CLICK EVENT"
   ]
  },
  {
   "cell_type": "code",
   "execution_count": 2,
   "id": "ab2eeef2",
   "metadata": {},
   "outputs": [
    {
     "data": {
      "text/plain": [
       "['EVENT_FLAG_ALTKEY',\n",
       " 'EVENT_FLAG_CTRLKEY',\n",
       " 'EVENT_FLAG_LBUTTON',\n",
       " 'EVENT_FLAG_MBUTTON',\n",
       " 'EVENT_FLAG_RBUTTON',\n",
       " 'EVENT_FLAG_SHIFTKEY',\n",
       " 'EVENT_LBUTTONDBLCLK',\n",
       " 'EVENT_LBUTTONDOWN',\n",
       " 'EVENT_LBUTTONUP',\n",
       " 'EVENT_MBUTTONDBLCLK',\n",
       " 'EVENT_MBUTTONDOWN',\n",
       " 'EVENT_MBUTTONUP',\n",
       " 'EVENT_MOUSEHWHEEL',\n",
       " 'EVENT_MOUSEMOVE',\n",
       " 'EVENT_MOUSEWHEEL',\n",
       " 'EVENT_RBUTTONDBLCLK',\n",
       " 'EVENT_RBUTTONDOWN',\n",
       " 'EVENT_RBUTTONUP']"
      ]
     },
     "execution_count": 2,
     "metadata": {},
     "output_type": "execute_result"
    }
   ],
   "source": [
    "# TO LIST ALL MOUSE EVENTS\n",
    "events = [i for i in dir(cv2) if 'EVENT' in i]\n",
    "events"
   ]
  },
  {
   "cell_type": "code",
   "execution_count": 15,
   "id": "f3f4d77d",
   "metadata": {},
   "outputs": [],
   "source": [
    "# MOUSE CALL-BACK FUNCTION\n",
    "def clickEvent(event,x,y,flags,param):\n",
    "#args         (click-event,x-coordinate,y-co-ordinate,flags,paramets)\n",
    "\n",
    "    if event == cv2.EVENT_LBUTTONDOWN:\n",
    "#         print(x,' ',y)\n",
    "        font = cv2.FONT_HERSHEY_COMPLEX\n",
    "        strXY = str(x) + \", \" +str(y)\n",
    "        cv2.putText(img,strXY,(x,y),font,.5,(255,255,255),2)\n",
    "        # x and y axis co-ordinates\n",
    "        \n",
    "        cv2.imshow(\"image\",img)\n",
    "        \n",
    "    if event == cv2.EVENT_RBUTTONDOWN:\n",
    "        font = cv2.FONT_HERSHEY_COMPLEX\n",
    "        blue = img[y,x,0]\n",
    "        green = img[y,x,1]\n",
    "        red = img[y,x,2]\n",
    "        strXY = str(blue)+\",\"+str(green)+\",\"+str(red)\n",
    "        cv2.putText(img,strXY,(x,y),font,0.5,(255,255,0),2)\n",
    "        # bgr channels\n",
    "        \n",
    "        cv2.imshow(\"image\",img)\n",
    "\n",
    "# img = np.zeros((1000,2000,3),np.uint8)\n",
    "img = cv2.imread('lena.jpg',1)\n",
    "\n",
    "cv2.imshow(\"image\",img)\n",
    "\n",
    "cv2.setMouseCallback('image',clickEvent)\n",
    "# args              ('window-name',callback-function,)\n",
    "\n",
    "cv2.waitKey(0) \n",
    "# wait till any key press\n",
    "\n",
    "cv2.destroyAllWindows()"
   ]
  },
  {
   "cell_type": "code",
   "execution_count": 25,
   "id": "7928bf3e",
   "metadata": {},
   "outputs": [],
   "source": [
    "\n",
    "#call back fn\n",
    "def click_event(event,x,y,flasgs,param):\n",
    "    if event == cv2.EVENT_LBUTTONDOWN:\n",
    "        cv2.circle(img,(x,y),10,(255,0,255),-1)\n",
    "        #to draw circle\n",
    "        points.append((x,y))\n",
    "        if len(points)>=2 :\n",
    "            cv2.line(img,points[-1],points[-2],(255,255,250),1)\n",
    "        cv2.imshow('image',img)\n",
    "\n",
    "# img = cv2.imread('lena.jpg',1)\n",
    "img = np.zeros((1000,2000,3),np.uint8)\n",
    "\n",
    "cv2.imshow('image',img)\n",
    "points = []\n",
    "\n",
    "cv2.setMouseCallback('image',click_event)\n",
    "#call-back function call\n",
    "\n",
    "cv2.waitKey(0)\n",
    "cv2.destroyAllWindows()"
   ]
  },
  {
   "cell_type": "markdown",
   "id": "09514b98",
   "metadata": {},
   "source": [
    "## SHOW PIXEL-COLOR OF AN IMAGE"
   ]
  },
  {
   "cell_type": "code",
   "execution_count": 2,
   "id": "6a88b29d",
   "metadata": {},
   "outputs": [],
   "source": [
    "def click_event(event,x,y,flags,param):\n",
    "    if event == cv2.EVENT_LBUTTONDOWN:\n",
    "        blue = img[x,y,0]\n",
    "        # blue value at x,y co-ordinate\n",
    "        \n",
    "        green = img[x,y,1]\n",
    "        # green value at x,y co-ordinate\n",
    "        \n",
    "        red = img[x,y,2]\n",
    "        # red value at x,y co-ordinate\n",
    "        \n",
    "        cv2.circle(img,(x,y),3,(0,255,0),-1)\n",
    "        cp = np.zeros((512,512,3),np.uint8)\n",
    "        # create numpy array of 512x512\n",
    "        \n",
    "        cp[:]=[blue,green,red]\n",
    "        # changing all colors to the bgr value\n",
    "        \n",
    "        cv2.imshow('color',cp)\n",
    "\n",
    "img = cv2.imread('lena.jpg',1)\n",
    "\n",
    "cv2.imshow('image',img)\n",
    "\n",
    "cv2.setMouseCallback('image',click_event)\n",
    "\n",
    "cv2.waitKey(0)\n",
    "cv2.destroyAllWindows()"
   ]
  }
 ],
 "metadata": {
  "kernelspec": {
   "display_name": "Python 3 (ipykernel)",
   "language": "python",
   "name": "python3"
  },
  "language_info": {
   "codemirror_mode": {
    "name": "ipython",
    "version": 3
   },
   "file_extension": ".py",
   "mimetype": "text/x-python",
   "name": "python",
   "nbconvert_exporter": "python",
   "pygments_lexer": "ipython3",
   "version": "3.10.4"
  }
 },
 "nbformat": 4,
 "nbformat_minor": 5
}
