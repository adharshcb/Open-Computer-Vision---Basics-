{
 "cells": [
  {
   "cell_type": "markdown",
   "id": "17190759",
   "metadata": {},
   "source": [
    "# Pyramid"
   ]
  },
  {
   "cell_type": "markdown",
   "id": "59c687ad",
   "metadata": {},
   "source": [
    "### Pyramid, or pyramid representation, is a type of multi-scale signal representation in which a signal or an image is subject to repeated smoothing and subsampling."
   ]
  },
  {
   "cell_type": "markdown",
   "id": "45a5cddc",
   "metadata": {},
   "source": [
    "* Gaussian pyramid\n",
    "* Laplacian pyramid"
   ]
  },
  {
   "cell_type": "markdown",
   "id": "fc5e11f5",
   "metadata": {},
   "source": [
    "## Gaussian pyramid"
   ]
  },
  {
   "cell_type": "markdown",
   "id": "fa4624fd",
   "metadata": {},
   "source": [
    "repeat filtering and subsampling of an image."
   ]
  },
  {
   "cell_type": "code",
   "execution_count": 16,
   "id": "50a3dca5",
   "metadata": {},
   "outputs": [],
   "source": [
    "import numpy as np\n",
    "import cv2\n",
    "import matplotlib.pyplot as plt"
   ]
  },
  {
   "cell_type": "code",
   "execution_count": 17,
   "id": "2e35248a",
   "metadata": {},
   "outputs": [],
   "source": [
    "img = cv2.imread('lena.jpg')\n",
    "lr = cv2.pyrDown(img)\n",
    "up = cv2.pyrUp(lr)"
   ]
  },
  {
   "cell_type": "code",
   "execution_count": 11,
   "id": "ba363d57",
   "metadata": {},
   "outputs": [],
   "source": [
    "cv2.imshow('original image',img)\n",
    "cv2.imshow('original image2',lr)\n",
    "cv2.imshow('original image3',up)\n",
    "cv2.waitKey(0)\n",
    "cv2.destroyAllWindows()"
   ]
  },
  {
   "cell_type": "markdown",
   "id": "df1fa370",
   "metadata": {},
   "source": [
    "## Laplacian Pyramid"
   ]
  },
  {
   "cell_type": "markdown",
   "id": "5c7ed79a",
   "metadata": {},
   "source": [
    "### A level in laplacian pyramid is formed by the difference between that level in Gaussian Pyramid and expanded version of its upper level in Gaussian Pyramid."
   ]
  },
  {
   "cell_type": "code",
   "execution_count": 30,
   "id": "99335e38",
   "metadata": {},
   "outputs": [],
   "source": [
    "layer = img.copy()\n",
    "cv2.imshow('original image',layer)\n",
    "gp = [layer]\n",
    "\n",
    "for i in range(6):\n",
    "    layer = cv2.pyrDown(layer)\n",
    "    gp.append(layer)\n",
    "    cv2.imshow('down'+ str(i),layer)\n",
    "\n",
    "layer = gp[-1]\n",
    "\n",
    "for i in range(5,0,-1):\n",
    "    g_ex = cv2.pyrUp(gp[i])\n",
    "    \n",
    "    laplacian = cv2.subtract(gp[i-1],g_ex)\n",
    "    # difference between same level of gaussian up and down\n",
    "    \n",
    "    cv2.imshow(str(i),laplacian)\n",
    "    \n",
    "\n",
    "    \n",
    "cv2.waitKey(0)\n",
    "cv2.destroyAllWindows()"
   ]
  },
  {
   "cell_type": "code",
   "execution_count": null,
   "id": "9c3f3861",
   "metadata": {},
   "outputs": [],
   "source": []
  }
 ],
 "metadata": {
  "kernelspec": {
   "display_name": "Python 3 (ipykernel)",
   "language": "python",
   "name": "python3"
  },
  "language_info": {
   "codemirror_mode": {
    "name": "ipython",
    "version": 3
   },
   "file_extension": ".py",
   "mimetype": "text/x-python",
   "name": "python",
   "nbconvert_exporter": "python",
   "pygments_lexer": "ipython3",
   "version": "3.10.4"
  }
 },
 "nbformat": 4,
 "nbformat_minor": 5
}
