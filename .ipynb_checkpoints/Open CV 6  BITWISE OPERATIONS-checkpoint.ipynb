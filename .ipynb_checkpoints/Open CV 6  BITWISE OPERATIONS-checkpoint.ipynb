{
 "cells": [
  {
   "cell_type": "markdown",
   "id": "b77a46e9",
   "metadata": {},
   "source": [
    "# BITWISE OPERATIONS"
   ]
  },
  {
   "cell_type": "code",
   "execution_count": 1,
   "id": "fcc74336",
   "metadata": {},
   "outputs": [],
   "source": [
    "import cv2\n",
    "import numpy as np"
   ]
  },
  {
   "cell_type": "markdown",
   "id": "33baf68a",
   "metadata": {},
   "source": [
    "### Bitwise operations are very usefully when working with mask. masks are binary images that indicates the pixel in which an operaion is to be performed."
   ]
  },
  {
   "cell_type": "code",
   "execution_count": 2,
   "id": "3e67af63",
   "metadata": {},
   "outputs": [],
   "source": [
    "img = np.zeros((250,500,3),np.uint8)\n",
    "img = cv2.rectangle(img,(200,0),(300,100),(255,255,255),-1)\n",
    "img2 = cv2.imread('White_26black.png')\n",
    "img2 = cv2.resize(img2,(500,250))"
   ]
  },
  {
   "cell_type": "markdown",
   "id": "ad4b63ae",
   "metadata": {},
   "source": [
    "## BITWISE AND OPERATION"
   ]
  },
  {
   "cell_type": "code",
   "execution_count": 3,
   "id": "7c1a0be4",
   "metadata": {},
   "outputs": [],
   "source": [
    "bitAnd = cv2.bitwise_and(img,img2)"
   ]
  },
  {
   "cell_type": "markdown",
   "id": "79a88291",
   "metadata": {},
   "source": [
    "## BITWISE OR OPERATION"
   ]
  },
  {
   "cell_type": "code",
   "execution_count": 4,
   "id": "9851a1c1",
   "metadata": {},
   "outputs": [],
   "source": [
    "bitOr = cv2.bitwise_or(img,img2)"
   ]
  },
  {
   "cell_type": "markdown",
   "id": "a57bf8b7",
   "metadata": {},
   "source": [
    "## BITWISE NOT OPERATION"
   ]
  },
  {
   "cell_type": "code",
   "execution_count": 8,
   "id": "c4294b65",
   "metadata": {},
   "outputs": [],
   "source": [
    "bitNot = cv2.bitwise_not(img2)"
   ]
  },
  {
   "cell_type": "markdown",
   "id": "705e0803",
   "metadata": {},
   "source": [
    "## BITWISE XOR OPERATION"
   ]
  },
  {
   "cell_type": "code",
   "execution_count": 6,
   "id": "ba448d02",
   "metadata": {},
   "outputs": [],
   "source": [
    "bitXor = cv2.bitwise_xor(img,img2)"
   ]
  },
  {
   "cell_type": "code",
   "execution_count": 10,
   "id": "e16dd0da",
   "metadata": {},
   "outputs": [],
   "source": [
    "cv2.imshow('image1',img)\n",
    "cv2.imshow(\"image2\",img2)\n",
    "cv2.imshow('and',bitAnd)\n",
    "cv2.imshow('or',bitOr)\n",
    "cv2.imshow('not',bitNot)\n",
    "cv2.imshow('xor',bitXor)\n",
    "cv2.waitKey(0)\n",
    "cv2.destroyAllWindows()"
   ]
  },
  {
   "cell_type": "code",
   "execution_count": null,
   "id": "9c860561",
   "metadata": {},
   "outputs": [],
   "source": []
  }
 ],
 "metadata": {
  "kernelspec": {
   "display_name": "Python 3 (ipykernel)",
   "language": "python",
   "name": "python3"
  },
  "language_info": {
   "codemirror_mode": {
    "name": "ipython",
    "version": 3
   },
   "file_extension": ".py",
   "mimetype": "text/x-python",
   "name": "python",
   "nbconvert_exporter": "python",
   "pygments_lexer": "ipython3",
   "version": "3.10.4"
  }
 },
 "nbformat": 4,
 "nbformat_minor": 5
}
