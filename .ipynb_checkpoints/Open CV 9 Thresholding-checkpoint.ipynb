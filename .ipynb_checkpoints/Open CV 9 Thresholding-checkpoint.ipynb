{
 "cells": [
  {
   "cell_type": "markdown",
   "id": "ba88845c",
   "metadata": {},
   "source": [
    "# Thresholding"
   ]
  },
  {
   "cell_type": "markdown",
   "id": "5f5de699",
   "metadata": {},
   "source": [
    "### Thresholding is a segmentation technique used for seperating an object from its background. The process of thresholding involves comparing each pixel of an image with a predefined threshold value. This process will divide all pixels into two groups. The first group involves pixels having intensity value lower than the threshold value, and the second group involves the pixels having intensity value higher than the threshold value."
   ]
  },
  {
   "cell_type": "code",
   "execution_count": 1,
   "id": "ee59e85a",
   "metadata": {},
   "outputs": [],
   "source": [
    "import cv2\n",
    "import numpy as np"
   ]
  },
  {
   "cell_type": "code",
   "execution_count": 2,
   "id": "035e9aa9",
   "metadata": {},
   "outputs": [],
   "source": [
    "img = cv2.imread('gradient.png',1)"
   ]
  },
  {
   "cell_type": "markdown",
   "id": "6fc4ec81",
   "metadata": {},
   "source": [
    "### BINARY THRESHOLDING"
   ]
  },
  {
   "cell_type": "code",
   "execution_count": 3,
   "id": "d58df932",
   "metadata": {},
   "outputs": [],
   "source": [
    "_,th1 = cv2.threshold(img,127,255,cv2.THRESH_BINARY)\n",
    "#args                (source,threshold value,maximum value,threshold type)"
   ]
  },
  {
   "cell_type": "markdown",
   "id": "e760d275",
   "metadata": {},
   "source": [
    "### BINARY THRESHOLDING INVERSE"
   ]
  },
  {
   "cell_type": "code",
   "execution_count": 4,
   "id": "ca2a3758",
   "metadata": {},
   "outputs": [],
   "source": [
    "_,th2 = cv2.threshold(img,127,255,cv2.THRESH_BINARY_INV)"
   ]
  },
  {
   "cell_type": "markdown",
   "id": "5fb74eb8",
   "metadata": {},
   "source": [
    "### THRESH TRUNC"
   ]
  },
  {
   "cell_type": "code",
   "execution_count": 5,
   "id": "3fdee3fa",
   "metadata": {},
   "outputs": [],
   "source": [
    "_,th3 = cv2.threshold(img,100,255,cv2.THRESH_TRUNC)\n",
    "# args               (source,value,max value,threshold function)\n",
    "# the threshold value will not be changed after specified value"
   ]
  },
  {
   "cell_type": "markdown",
   "id": "157739b3",
   "metadata": {},
   "source": [
    "### THRESH TOZERO"
   ]
  },
  {
   "cell_type": "code",
   "execution_count": 13,
   "id": "c973119b",
   "metadata": {},
   "outputs": [],
   "source": [
    "_,th4 = cv2.threshold(img,110,255,cv2.THRESH_TOZERO)\n",
    "# upto threshold value, the pixel value will be zero"
   ]
  },
  {
   "cell_type": "markdown",
   "id": "6b1a78b0",
   "metadata": {},
   "source": [
    "### THRESH TOZERO INVERSE"
   ]
  },
  {
   "cell_type": "code",
   "execution_count": 16,
   "id": "9a84de0c",
   "metadata": {},
   "outputs": [],
   "source": [
    "_,th5 = cv2.threshold(img,110,255,cv2.THRESH_TOZERO_INV)\n",
    "# after threshold value, the pixel value will be zero"
   ]
  },
  {
   "cell_type": "code",
   "execution_count": 18,
   "id": "5c150c3b",
   "metadata": {},
   "outputs": [],
   "source": [
    "cv2.imshow('image',img)\n",
    "cv2.imshow('th1',th1)\n",
    "cv2.imshow('th2',th2)\n",
    "cv2.imshow('th3',th3)\n",
    "cv2.imshow('th4',th4)\n",
    "cv2.imshow('th5',th5)\n",
    "\n",
    "cv2.waitKey(0)\n",
    "cv2.destroyAllWindows()"
   ]
  },
  {
   "cell_type": "markdown",
   "id": "43f285f0",
   "metadata": {},
   "source": [
    "# ADAPTIVE THRESHOLDING"
   ]
  },
  {
   "cell_type": "markdown",
   "id": "9c549fdb",
   "metadata": {},
   "source": [
    "### Adaptive thresholding is the method where the threshold value is calculated for the smaller region. Threshold value is not global for every pixel, but its calculated for a smaller region.And because of this there will be different threshold value for different region.As a result adaptive thresholding gives as better results for images with varying illumination."
   ]
  },
  {
   "cell_type": "code",
   "execution_count": 27,
   "id": "7a193444",
   "metadata": {},
   "outputs": [],
   "source": [
    "img2 = cv2.imread('sudoku.png',1)\n",
    "img2 = cv2.cvtColor(img2,cv2.COLOR_BGR2GRAY)\n",
    "#adaptive threshhold requires a grayscale image\n",
    "\n",
    "_,th1 = cv2.threshold(img2,127,255,cv2.THRESH_BINARY)\n",
    "\n",
    "# ADAPTIVE THRESH MEAN C\n",
    "th2 = cv2.adaptiveThreshold(img2,255,cv2.ADAPTIVE_THRESH_MEAN_C,cv2.THRESH_BINARY,11,2)\n",
    "#args                      (source,max value, adaptive method,threshold type,block size,c-constant  ) \n",
    "\n",
    "# ADAPTIVE THRESH GAUSSIAN C\n",
    "th3 = cv2.adaptiveThreshold(img2,255,cv2.ADAPTIVE_THRESH_GAUSSIAN_C,cv2.THRESH_BINARY,11,2)\n",
    "\n",
    "\n",
    "cv2.imshow('sudoku',img2)\n",
    "cv2.imshow('TH1',th1)\n",
    "cv2.imshow('TH2',th2)\n",
    "cv2.imshow('TH3',th3)\n",
    "\n",
    "cv2.waitKey(0)\n",
    "cv2.destroyAllWindows()"
   ]
  },
  {
   "cell_type": "code",
   "execution_count": null,
   "id": "b9093444",
   "metadata": {},
   "outputs": [],
   "source": []
  }
 ],
 "metadata": {
  "kernelspec": {
   "display_name": "Python 3 (ipykernel)",
   "language": "python",
   "name": "python3"
  },
  "language_info": {
   "codemirror_mode": {
    "name": "ipython",
    "version": 3
   },
   "file_extension": ".py",
   "mimetype": "text/x-python",
   "name": "python",
   "nbconvert_exporter": "python",
   "pygments_lexer": "ipython3",
   "version": "3.10.4"
  }
 },
 "nbformat": 4,
 "nbformat_minor": 5
}
