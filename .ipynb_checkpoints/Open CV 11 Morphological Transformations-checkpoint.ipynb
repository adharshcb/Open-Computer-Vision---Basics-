{
 "cells": [
  {
   "cell_type": "markdown",
   "id": "c97faeb9",
   "metadata": {},
   "source": [
    "\n",
    "# Morphological Transformations"
   ]
  },
  {
   "cell_type": "markdown",
   "id": "859fe7c7",
   "metadata": {},
   "source": [
    "### Morphological transformations are some simple operations based on the image shape.It is normally performed on binary images.This needs a structuring element or a kernal that tells we how to change the value of any given pixel by combinig it with different amounts of the neighboring pixels."
   ]
  },
  {
   "cell_type": "code",
   "execution_count": 1,
   "id": "03d15cb8",
   "metadata": {},
   "outputs": [
    {
     "ename": "ModuleNotFoundError",
     "evalue": "No module named 'matplotlib'",
     "output_type": "error",
     "traceback": [
      "\u001b[0;31m---------------------------------------------------------------------------\u001b[0m",
      "\u001b[0;31mModuleNotFoundError\u001b[0m                       Traceback (most recent call last)",
      "Cell \u001b[0;32mIn [1], line 2\u001b[0m\n\u001b[1;32m      1\u001b[0m \u001b[38;5;28;01mimport\u001b[39;00m \u001b[38;5;21;01mcv2\u001b[39;00m\n\u001b[0;32m----> 2\u001b[0m \u001b[38;5;28;01mimport\u001b[39;00m \u001b[38;5;21;01mmatplotlib\u001b[39;00m\u001b[38;5;21;01m.\u001b[39;00m\u001b[38;5;21;01mpyplot\u001b[39;00m \u001b[38;5;28;01mas\u001b[39;00m \u001b[38;5;21;01mplt\u001b[39;00m\n\u001b[1;32m      3\u001b[0m \u001b[38;5;28;01mimport\u001b[39;00m \u001b[38;5;21;01mnumpy\u001b[39;00m \u001b[38;5;28;01mas\u001b[39;00m \u001b[38;5;21;01mnp\u001b[39;00m\n",
      "\u001b[0;31mModuleNotFoundError\u001b[0m: No module named 'matplotlib'"
     ]
    }
   ],
   "source": [
    "import cv2\n",
    "import matplotlib.pyplot as plt\n",
    "import numpy as np"
   ]
  },
  {
   "cell_type": "code",
   "execution_count": null,
   "id": "2e21f54d",
   "metadata": {},
   "outputs": [],
   "source": [
    "img = cv2.imread('smarties.png',0)\n",
    "_,mask = cv2.threshold(img,220, 255,cv2.THRESH_BINARY_INV)\n",
    "\n",
    "kernal = np.ones((2,2),np.uint8)\n",
    "\n",
    "dilation = cv2.dilate(mask,kernal,iterations=2)\n",
    "erosion = cv2.erode(mask,kernal,iterations=1)\n",
    "opening = cv2.morphologyEx(mask,cv2.MORPH_OPEN,kernal)\n",
    "closing = cv2.morphologyEx(mask,cv2.MORPH_CLOSE,kernal)\n",
    "\n",
    "title = ['image','mask','dilation','erosion','opening','closing']\n",
    "images = [img,mask,dilation,erosion,opening,closing]\n",
    "\n",
    "for i in range(6):\n",
    "    plt.subplot(2,3,i+1),plt.imshow(images[i],'gray')\n",
    "    plt.title(titles[i])\n",
    "    plt.xticks([]),plt.yticks([])\n",
    "    \n",
    "plt.show()"
   ]
  }
 ],
 "metadata": {
  "kernelspec": {
   "display_name": "Python 3 (ipykernel)",
   "language": "python",
   "name": "python3"
  },
  "language_info": {
   "codemirror_mode": {
    "name": "ipython",
    "version": 3
   },
   "file_extension": ".py",
   "mimetype": "text/x-python",
   "name": "python",
   "nbconvert_exporter": "python",
   "pygments_lexer": "ipython3",
   "version": "3.10.4"
  }
 },
 "nbformat": 4,
 "nbformat_minor": 5
}
