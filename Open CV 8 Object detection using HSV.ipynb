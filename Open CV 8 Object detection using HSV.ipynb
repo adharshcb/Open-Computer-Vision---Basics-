{
 "cells": [
  {
   "cell_type": "markdown",
   "id": "eb279aef",
   "metadata": {},
   "source": [
    "# HSV(Hue,Saturation and Value)"
   ]
  },
  {
   "cell_type": "markdown",
   "id": "76a059be",
   "metadata": {},
   "source": [
    "### Hue corresponds to the color components(base pigment), hence just by selecting a range of Hue, we can select any color.(0-360)"
   ]
  },
  {
   "cell_type": "markdown",
   "id": "f658f6bd",
   "metadata": {},
   "source": [
    "### Saturation is the amount of color (depth of the pigment)(dominance of Hue)(0-100%)"
   ]
  },
  {
   "cell_type": "markdown",
   "id": "3966cf81",
   "metadata": {},
   "source": [
    "### Value is basically the brightness of the color.(0-100%)"
   ]
  },
  {
   "cell_type": "code",
   "execution_count": 1,
   "id": "ae7de46d",
   "metadata": {},
   "outputs": [],
   "source": [
    "import numpy as np \n",
    "import cv2"
   ]
  },
  {
   "cell_type": "markdown",
   "id": "e20b264a",
   "metadata": {},
   "source": [
    "# TRACK OBJECT ON IMAGE"
   ]
  },
  {
   "cell_type": "code",
   "execution_count": 5,
   "id": "1b6345eb",
   "metadata": {},
   "outputs": [],
   "source": [
    "def nothing(x):\n",
    "    pass\n",
    "\n",
    "cv2.namedWindow('Tracking')\n",
    "\n",
    "cv2.createTrackbar('LH','Tracking',0,255,nothing)# lower hue\n",
    "cv2.createTrackbar('LS','Tracking',0,255,nothing)# lower saturation\n",
    "cv2.createTrackbar('LV','Tracking',0,255,nothing)# lower value\n",
    "\n",
    "cv2.createTrackbar('UH','Tracking',255,255,nothing)# upper hue\n",
    "cv2.createTrackbar('US','Tracking',255,255,nothing)# upper saturation\n",
    "cv2.createTrackbar('UV','Tracking',255,255,nothing)# upper value\n",
    "\n",
    "while True:\n",
    "    frame = cv2.imread('smarties.png')\n",
    "    \n",
    "    hsv = cv2.cvtColor(frame,cv2.COLOR_BGR2HSV)\n",
    "    #convert image to hsv\n",
    "    \n",
    "    #getting trackbar values\n",
    "    l_h = cv2.getTrackbarPos('LH','Tracking')\n",
    "    l_s = cv2.getTrackbarPos('LS','Tracking')\n",
    "    l_v = cv2.getTrackbarPos('LV','Tracking')\n",
    "    \n",
    "    u_h = cv2.getTrackbarPos('UH','Tracking')\n",
    "    u_s = cv2.getTrackbarPos('US','Tracking')\n",
    "    u_v = cv2.getTrackbarPos('UV','Tracking')\n",
    "    \n",
    "    \n",
    "    l_c = np.array([l_h,l_s,l_v])# hsv for lower color values\n",
    "    u_c = np.array([u_h,u_s,u_v])# hsv for upper color values\n",
    "    \n",
    "    mask = cv2.inRange(hsv,l_c,u_c)# threshold hsv image to get mask\n",
    "    # args            (hsv image,lower color values,upper color values)\n",
    "    \n",
    "    res = cv2.bitwise_and(frame,frame,mask=mask)\n",
    "    # AND operation on image\n",
    "    \n",
    "    \n",
    "    \n",
    "    cv2.imshow('frame',frame)\n",
    "    cv2.imshow('mask',mask)\n",
    "    cv2.imshow('res',res)\n",
    "    \n",
    "    key = cv2.waitKey(1)\n",
    "    if key == 27:\n",
    "        break\n",
    "\n",
    "cv2.destroyAllWindows()"
   ]
  },
  {
   "cell_type": "markdown",
   "id": "ccf0f36f",
   "metadata": {},
   "source": [
    "# TRACK OBJECT FROM VIDEO"
   ]
  },
  {
   "cell_type": "code",
   "execution_count": 8,
   "id": "1a551935",
   "metadata": {},
   "outputs": [],
   "source": [
    "def nothing(x):\n",
    "    pass\n",
    "\n",
    "cap = cv2.VideoCapture(0)\n",
    "\n",
    "cv2.namedWindow('TrackbarPanel')\n",
    "cv2.createTrackbar('LH','TrackbarPanel',0,255,nothing)\n",
    "cv2.createTrackbar('LS','TrackbarPanel',0,255,nothing)\n",
    "cv2.createTrackbar('LV','TrackbarPanel',0,255,nothing)\n",
    "\n",
    "cv2.createTrackbar('UH','TrackbarPanel',255,255,nothing)\n",
    "cv2.createTrackbar('US','TrackbarPanel',255,255,nothing)\n",
    "cv2.createTrackbar('UV','TrackbarPanel',255,255,nothing)\n",
    "\n",
    "while True:\n",
    "    ret,frame = cap.read()\n",
    "    \n",
    "    hsv = cv2.cvtColor(frame,cv2.COLOR_BGR2HSV)\n",
    "    \n",
    "    lh = cv2.getTrackbarPos('LH',\"TrackbarPanel\")\n",
    "    ls = cv2.getTrackbarPos('LS',\"TrackbarPanel\")\n",
    "    lv = cv2.getTrackbarPos('LV',\"TrackbarPanel\")\n",
    "    \n",
    "    hh = cv2.getTrackbarPos('UH',\"TrackbarPanel\")\n",
    "    hs = cv2.getTrackbarPos('US',\"TrackbarPanel\")\n",
    "    hv = cv2.getTrackbarPos('UV',\"TrackbarPanel\")\n",
    "    \n",
    "    l_b = np.array([lh,ls,lv])\n",
    "    u_b = np.array([hh,hs,hv])\n",
    "    \n",
    "    mask = cv2.inRange(hsv,l_b,u_b)\n",
    "    \n",
    "    res = cv2.bitwise_and(frame,frame,mask=mask)\n",
    "    \n",
    "    cv2.imshow('frame',frame)\n",
    "    cv2.imshow('mask',mask)\n",
    "    cv2.imshow('res',res)\n",
    "    \n",
    "    key = cv2.waitKey(1)\n",
    "    if key == 27:\n",
    "        break\n",
    "\n",
    "cap.release()\n",
    "cv2.destroyAllWindows()"
   ]
  }
 ],
 "metadata": {
  "kernelspec": {
   "display_name": "Python 3 (ipykernel)",
   "language": "python",
   "name": "python3"
  },
  "language_info": {
   "codemirror_mode": {
    "name": "ipython",
    "version": 3
   },
   "file_extension": ".py",
   "mimetype": "text/x-python",
   "name": "python",
   "nbconvert_exporter": "python",
   "pygments_lexer": "ipython3",
   "version": "3.10.4"
  }
 },
 "nbformat": 4,
 "nbformat_minor": 5
}
