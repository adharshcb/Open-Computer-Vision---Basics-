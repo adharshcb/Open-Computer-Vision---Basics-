{
 "cells": [
  {
   "cell_type": "code",
   "execution_count": 1,
   "id": "3a5a6846",
   "metadata": {},
   "outputs": [],
   "source": [
    "import cv2\n",
    "import numpy as np"
   ]
  },
  {
   "cell_type": "markdown",
   "id": "a0d56cde",
   "metadata": {},
   "source": [
    "## HANDLE MOUSE CLICK EVENT"
   ]
  },
  {
   "cell_type": "code",
   "execution_count": null,
   "id": "ab2eeef2",
   "metadata": {},
   "outputs": [],
   "source": [
    "events = [i for i in dir(cv2)]"
   ]
  }
 ],
 "metadata": {
  "kernelspec": {
   "display_name": "Python 3 (ipykernel)",
   "language": "python",
   "name": "python3"
  },
  "language_info": {
   "codemirror_mode": {
    "name": "ipython",
    "version": 3
   },
   "file_extension": ".py",
   "mimetype": "text/x-python",
   "name": "python",
   "nbconvert_exporter": "python",
   "pygments_lexer": "ipython3",
   "version": "3.10.4"
  }
 },
 "nbformat": 4,
 "nbformat_minor": 5
}
