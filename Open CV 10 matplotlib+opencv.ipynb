{
 "cells": [
  {
   "cell_type": "code",
   "execution_count": null,
   "id": "86293924",
   "metadata": {},
   "outputs": [],
   "source": [
    "import cv2\n",
    "import matplotlib.pyplot as plt"
   ]
  },
  {
   "cell_type": "code",
   "execution_count": null,
   "id": "f2d4be2d",
   "metadata": {},
   "outputs": [],
   "source": [
    "img = cv2.imread('lena.jpg',1)\n",
    "cv2.imshow('image',img)\n",
    "\n",
    "img2 = cv2.cvtColor(img,cv2.COLOR_BGR2RGB)# plt show in rgb format\n",
    "plt.imshow(img2)\n",
    "plt.xticks([]),plt.yticks([])# to remove x and y scale\n",
    "plt.show()\n",
    "\n",
    "cv2.waitKey(0)\n",
    "cv2.destroyAllWindows()"
   ]
  },
  {
   "cell_type": "code",
   "execution_count": null,
   "id": "151137f4",
   "metadata": {},
   "outputs": [],
   "source": [
    "img = cv2.imread('gradient.png',1)\n",
    "_,th1 = cv2.threshold(img,127,255,cv2.THRESH_BINARY)\n",
    "_,th2 = cv2.threshold(img,127,255,cv2.THRESH_BINARY_INV)\n",
    "_,th3 = cv2.threshold(img,100,255,cv2.THRESH_TRUNC)\n",
    "_,th4 = cv2.threshold(img,110,255,cv2.THRESH_TOZERO)\n",
    "_,th5 = cv2.threshold(img,110,255,cv2.THRESH_TOZERO_INV)\n",
    "\n",
    "titles = ['OG','BINARY','BINARY_INV','TRUNC','TOZERO','TOZERO_INV']\n",
    "images = [img,th1,th2,th3,th4,th5]\n",
    "\n",
    "for i in range(6):\n",
    "    plt.subplot(2,3,i+1),plt.imshow(images[i],'gray')\n",
    "    # args     (rows,columns,number)\n",
    "    plt.title(titles[i])\n",
    "    plt.xticks([]),plt.yticks([])\n",
    "    \n",
    "plt.show()"
   ]
  }
 ],
 "metadata": {
  "kernelspec": {
   "display_name": "Python 3 (ipykernel)",
   "language": "python",
   "name": "python3"
  },
  "language_info": {
   "codemirror_mode": {
    "name": "ipython",
    "version": 3
   },
   "file_extension": ".py",
   "mimetype": "text/x-python",
   "name": "python",
   "nbconvert_exporter": "python",
   "pygments_lexer": "ipython3",
   "version": "3.10.4"
  }
 },
 "nbformat": 4,
 "nbformat_minor": 5
}
