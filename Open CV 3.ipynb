{
 "cells": [
  {
   "cell_type": "code",
   "execution_count": 1,
   "id": "47a13aab",
   "metadata": {},
   "outputs": [],
   "source": [
    "import cv2\n",
    "import datetime"
   ]
  },
  {
   "cell_type": "markdown",
   "id": "dabc0f98",
   "metadata": {},
   "source": [
    "## ADD TEXT TO VIDEO"
   ]
  },
  {
   "cell_type": "code",
   "execution_count": 3,
   "id": "2eb25b25",
   "metadata": {},
   "outputs": [],
   "source": [
    "cap = cv2.VideoCapture(0)\n",
    "\n",
    "cap.set(3,1280)\n",
    "cap.set(4,720)\n",
    "#setting resolution to 1280x720\n",
    "\n",
    "while(cap.isOpened()):\n",
    "    ret,frame = cap.read()\n",
    "#     frame = cv2.cvtColor(frame,cv2.COLOR_BGR2GRAY)\n",
    "    \n",
    "    if ret is True:\n",
    "        font = cv2.FONT_HERSHEY_COMPLEX\n",
    "        date = str(datetime.datetime.now())#to add date and time.\n",
    "        \n",
    "        text = \"Width: \"+ str(cap.get(3))+' Height: '+str(cap.get(4))+\" \"+date\n",
    "        \n",
    "        frame = cv2.putText(frame,text,(10,50),font,1,(0,255,120),2,cv2.LINE_AA)\n",
    "        #args              (source,text,(start),font,font_scale,color,thickness,line-type)\n",
    "        \n",
    "        cv2.imshow(\"sample video capture\",frame)\n",
    "        \n",
    "        if cv2.waitKey(1) == ord('q'):#press q to quit\n",
    "            break\n",
    "    else:\n",
    "        break\n",
    "        \n",
    "cap.release()\n",
    "cv2.destroyAllWindows()"
   ]
  },
  {
   "cell_type": "code",
   "execution_count": null,
   "id": "6cee693b",
   "metadata": {},
   "outputs": [],
   "source": []
  }
 ],
 "metadata": {
  "kernelspec": {
   "display_name": "Python 3 (ipykernel)",
   "language": "python",
   "name": "python3"
  },
  "language_info": {
   "codemirror_mode": {
    "name": "ipython",
    "version": 3
   },
   "file_extension": ".py",
   "mimetype": "text/x-python",
   "name": "python",
   "nbconvert_exporter": "python",
   "pygments_lexer": "ipython3",
   "version": "3.10.4"
  }
 },
 "nbformat": 4,
 "nbformat_minor": 5
}
